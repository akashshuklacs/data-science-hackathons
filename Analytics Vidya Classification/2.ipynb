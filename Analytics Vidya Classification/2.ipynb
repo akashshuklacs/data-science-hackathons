{
 "cells": [
  {
   "cell_type": "code",
   "execution_count": 1,
   "metadata": {},
   "outputs": [],
   "source": [
    "#Importing required libraries\n",
    "import pandas as pd\n",
    "import numpy as np\n",
    "import matplotlib.pyplot as plt\n",
    "%matplotlib inline\n",
    "from scipy.stats import chi2_contingency"
   ]
  },
  {
   "cell_type": "code",
   "execution_count": 2,
   "metadata": {},
   "outputs": [],
   "source": [
    "#Reading train and test data\n",
    "train=pd.read_csv(\"train.csv\", index_col=\"ID\")\n",
    "test=pd.read_csv(\"test.csv\", index_col=\"ID\")"
   ]
  },
  {
   "cell_type": "code",
   "execution_count": 3,
   "metadata": {},
   "outputs": [],
   "source": [
    "train_length=train.shape\n",
    "test_length=test.shape"
   ]
  },
  {
   "cell_type": "code",
   "execution_count": 4,
   "metadata": {},
   "outputs": [
    {
     "data": {
      "text/plain": [
       "(9527, 22)"
      ]
     },
     "execution_count": 4,
     "metadata": {},
     "output_type": "execute_result"
    }
   ],
   "source": [
    "train_length"
   ]
  },
  {
   "cell_type": "code",
   "execution_count": 5,
   "metadata": {},
   "outputs": [
    {
     "data": {
      "text/plain": [
       "(5045, 21)"
      ]
     },
     "execution_count": 5,
     "metadata": {},
     "output_type": "execute_result"
    }
   ],
   "source": [
    "test_length"
   ]
  },
  {
   "cell_type": "code",
   "execution_count": 6,
   "metadata": {},
   "outputs": [
    {
     "data": {
      "text/html": [
       "<div>\n",
       "<style scoped>\n",
       "    .dataframe tbody tr th:only-of-type {\n",
       "        vertical-align: middle;\n",
       "    }\n",
       "\n",
       "    .dataframe tbody tr th {\n",
       "        vertical-align: top;\n",
       "    }\n",
       "\n",
       "    .dataframe thead th {\n",
       "        text-align: right;\n",
       "    }\n",
       "</style>\n",
       "<table border=\"1\" class=\"dataframe\">\n",
       "  <thead>\n",
       "    <tr style=\"text-align: right;\">\n",
       "      <th></th>\n",
       "      <th>Office_PIN</th>\n",
       "      <th>Application_Receipt_Date</th>\n",
       "      <th>Applicant_City_PIN</th>\n",
       "      <th>Applicant_Gender</th>\n",
       "      <th>Applicant_BirthDate</th>\n",
       "      <th>Applicant_Marital_Status</th>\n",
       "      <th>Applicant_Occupation</th>\n",
       "      <th>Applicant_Qualification</th>\n",
       "      <th>Manager_DOJ</th>\n",
       "      <th>Manager_Joining_Designation</th>\n",
       "      <th>...</th>\n",
       "      <th>Manager_Status</th>\n",
       "      <th>Manager_Gender</th>\n",
       "      <th>Manager_DoB</th>\n",
       "      <th>Manager_Num_Application</th>\n",
       "      <th>Manager_Num_Coded</th>\n",
       "      <th>Manager_Business</th>\n",
       "      <th>Manager_Num_Products</th>\n",
       "      <th>Manager_Business2</th>\n",
       "      <th>Manager_Num_Products2</th>\n",
       "      <th>Business_Sourced</th>\n",
       "    </tr>\n",
       "    <tr>\n",
       "      <th>ID</th>\n",
       "      <th></th>\n",
       "      <th></th>\n",
       "      <th></th>\n",
       "      <th></th>\n",
       "      <th></th>\n",
       "      <th></th>\n",
       "      <th></th>\n",
       "      <th></th>\n",
       "      <th></th>\n",
       "      <th></th>\n",
       "      <th></th>\n",
       "      <th></th>\n",
       "      <th></th>\n",
       "      <th></th>\n",
       "      <th></th>\n",
       "      <th></th>\n",
       "      <th></th>\n",
       "      <th></th>\n",
       "      <th></th>\n",
       "      <th></th>\n",
       "      <th></th>\n",
       "    </tr>\n",
       "  </thead>\n",
       "  <tbody>\n",
       "    <tr>\n",
       "      <th>FIN1000001</th>\n",
       "      <td>842001</td>\n",
       "      <td>4/16/2007</td>\n",
       "      <td>844120.0</td>\n",
       "      <td>M</td>\n",
       "      <td>12/19/1971</td>\n",
       "      <td>M</td>\n",
       "      <td>Others</td>\n",
       "      <td>Graduate</td>\n",
       "      <td>11/10/2005</td>\n",
       "      <td>Level 1</td>\n",
       "      <td>...</td>\n",
       "      <td>Confirmation</td>\n",
       "      <td>M</td>\n",
       "      <td>2/17/1978</td>\n",
       "      <td>2.0</td>\n",
       "      <td>1.0</td>\n",
       "      <td>335249.0</td>\n",
       "      <td>28.0</td>\n",
       "      <td>335249.0</td>\n",
       "      <td>28.0</td>\n",
       "      <td>0</td>\n",
       "    </tr>\n",
       "    <tr>\n",
       "      <th>FIN1000002</th>\n",
       "      <td>842001</td>\n",
       "      <td>4/16/2007</td>\n",
       "      <td>844111.0</td>\n",
       "      <td>M</td>\n",
       "      <td>2/17/1983</td>\n",
       "      <td>S</td>\n",
       "      <td>Others</td>\n",
       "      <td>Class XII</td>\n",
       "      <td>11/10/2005</td>\n",
       "      <td>Level 1</td>\n",
       "      <td>...</td>\n",
       "      <td>Confirmation</td>\n",
       "      <td>M</td>\n",
       "      <td>2/17/1978</td>\n",
       "      <td>2.0</td>\n",
       "      <td>1.0</td>\n",
       "      <td>335249.0</td>\n",
       "      <td>28.0</td>\n",
       "      <td>335249.0</td>\n",
       "      <td>28.0</td>\n",
       "      <td>1</td>\n",
       "    </tr>\n",
       "    <tr>\n",
       "      <th>FIN1000003</th>\n",
       "      <td>800001</td>\n",
       "      <td>4/16/2007</td>\n",
       "      <td>844101.0</td>\n",
       "      <td>M</td>\n",
       "      <td>1/16/1966</td>\n",
       "      <td>M</td>\n",
       "      <td>Business</td>\n",
       "      <td>Class XII</td>\n",
       "      <td>5/27/2006</td>\n",
       "      <td>Level 1</td>\n",
       "      <td>...</td>\n",
       "      <td>Confirmation</td>\n",
       "      <td>M</td>\n",
       "      <td>3/3/1969</td>\n",
       "      <td>0.0</td>\n",
       "      <td>0.0</td>\n",
       "      <td>357184.0</td>\n",
       "      <td>24.0</td>\n",
       "      <td>357184.0</td>\n",
       "      <td>24.0</td>\n",
       "      <td>0</td>\n",
       "    </tr>\n",
       "    <tr>\n",
       "      <th>FIN1000004</th>\n",
       "      <td>814112</td>\n",
       "      <td>4/16/2007</td>\n",
       "      <td>814112.0</td>\n",
       "      <td>M</td>\n",
       "      <td>2/3/1988</td>\n",
       "      <td>S</td>\n",
       "      <td>Salaried</td>\n",
       "      <td>Class XII</td>\n",
       "      <td>8/21/2003</td>\n",
       "      <td>Level 1</td>\n",
       "      <td>...</td>\n",
       "      <td>Confirmation</td>\n",
       "      <td>F</td>\n",
       "      <td>8/14/1978</td>\n",
       "      <td>0.0</td>\n",
       "      <td>0.0</td>\n",
       "      <td>318356.0</td>\n",
       "      <td>22.0</td>\n",
       "      <td>318356.0</td>\n",
       "      <td>22.0</td>\n",
       "      <td>0</td>\n",
       "    </tr>\n",
       "    <tr>\n",
       "      <th>FIN1000005</th>\n",
       "      <td>814112</td>\n",
       "      <td>4/16/2007</td>\n",
       "      <td>815351.0</td>\n",
       "      <td>M</td>\n",
       "      <td>7/4/1985</td>\n",
       "      <td>M</td>\n",
       "      <td>Others</td>\n",
       "      <td>Class XII</td>\n",
       "      <td>5/8/2006</td>\n",
       "      <td>Level 1</td>\n",
       "      <td>...</td>\n",
       "      <td>Confirmation</td>\n",
       "      <td>M</td>\n",
       "      <td>2/7/1971</td>\n",
       "      <td>2.0</td>\n",
       "      <td>1.0</td>\n",
       "      <td>230402.0</td>\n",
       "      <td>17.0</td>\n",
       "      <td>230402.0</td>\n",
       "      <td>17.0</td>\n",
       "      <td>0</td>\n",
       "    </tr>\n",
       "  </tbody>\n",
       "</table>\n",
       "<p>5 rows × 22 columns</p>\n",
       "</div>"
      ],
      "text/plain": [
       "            Office_PIN Application_Receipt_Date  Applicant_City_PIN  \\\n",
       "ID                                                                    \n",
       "FIN1000001      842001                4/16/2007            844120.0   \n",
       "FIN1000002      842001                4/16/2007            844111.0   \n",
       "FIN1000003      800001                4/16/2007            844101.0   \n",
       "FIN1000004      814112                4/16/2007            814112.0   \n",
       "FIN1000005      814112                4/16/2007            815351.0   \n",
       "\n",
       "           Applicant_Gender Applicant_BirthDate Applicant_Marital_Status  \\\n",
       "ID                                                                         \n",
       "FIN1000001                M          12/19/1971                        M   \n",
       "FIN1000002                M           2/17/1983                        S   \n",
       "FIN1000003                M           1/16/1966                        M   \n",
       "FIN1000004                M            2/3/1988                        S   \n",
       "FIN1000005                M            7/4/1985                        M   \n",
       "\n",
       "           Applicant_Occupation Applicant_Qualification Manager_DOJ  \\\n",
       "ID                                                                    \n",
       "FIN1000001               Others                Graduate  11/10/2005   \n",
       "FIN1000002               Others               Class XII  11/10/2005   \n",
       "FIN1000003             Business               Class XII   5/27/2006   \n",
       "FIN1000004             Salaried               Class XII   8/21/2003   \n",
       "FIN1000005               Others               Class XII    5/8/2006   \n",
       "\n",
       "           Manager_Joining_Designation        ...        Manager_Status  \\\n",
       "ID                                            ...                         \n",
       "FIN1000001                     Level 1        ...          Confirmation   \n",
       "FIN1000002                     Level 1        ...          Confirmation   \n",
       "FIN1000003                     Level 1        ...          Confirmation   \n",
       "FIN1000004                     Level 1        ...          Confirmation   \n",
       "FIN1000005                     Level 1        ...          Confirmation   \n",
       "\n",
       "            Manager_Gender Manager_DoB Manager_Num_Application  \\\n",
       "ID                                                               \n",
       "FIN1000001               M   2/17/1978                     2.0   \n",
       "FIN1000002               M   2/17/1978                     2.0   \n",
       "FIN1000003               M    3/3/1969                     0.0   \n",
       "FIN1000004               F   8/14/1978                     0.0   \n",
       "FIN1000005               M    2/7/1971                     2.0   \n",
       "\n",
       "           Manager_Num_Coded  Manager_Business  Manager_Num_Products  \\\n",
       "ID                                                                     \n",
       "FIN1000001               1.0          335249.0                  28.0   \n",
       "FIN1000002               1.0          335249.0                  28.0   \n",
       "FIN1000003               0.0          357184.0                  24.0   \n",
       "FIN1000004               0.0          318356.0                  22.0   \n",
       "FIN1000005               1.0          230402.0                  17.0   \n",
       "\n",
       "            Manager_Business2  Manager_Num_Products2  Business_Sourced  \n",
       "ID                                                                      \n",
       "FIN1000001           335249.0                   28.0                 0  \n",
       "FIN1000002           335249.0                   28.0                 1  \n",
       "FIN1000003           357184.0                   24.0                 0  \n",
       "FIN1000004           318356.0                   22.0                 0  \n",
       "FIN1000005           230402.0                   17.0                 0  \n",
       "\n",
       "[5 rows x 22 columns]"
      ]
     },
     "execution_count": 6,
     "metadata": {},
     "output_type": "execute_result"
    }
   ],
   "source": [
    "train.head()"
   ]
  },
  {
   "cell_type": "code",
   "execution_count": 7,
   "metadata": {
    "scrolled": true
   },
   "outputs": [
    {
     "data": {
      "text/plain": [
       "Office_PIN                       int64\n",
       "Application_Receipt_Date        object\n",
       "Applicant_City_PIN             float64\n",
       "Applicant_Gender                object\n",
       "Applicant_BirthDate             object\n",
       "Applicant_Marital_Status        object\n",
       "Applicant_Occupation            object\n",
       "Applicant_Qualification         object\n",
       "Manager_DOJ                     object\n",
       "Manager_Joining_Designation     object\n",
       "Manager_Current_Designation     object\n",
       "Manager_Grade                  float64\n",
       "Manager_Status                  object\n",
       "Manager_Gender                  object\n",
       "Manager_DoB                     object\n",
       "Manager_Num_Application        float64\n",
       "Manager_Num_Coded              float64\n",
       "Manager_Business               float64\n",
       "Manager_Num_Products           float64\n",
       "Manager_Business2              float64\n",
       "Manager_Num_Products2          float64\n",
       "Business_Sourced                 int64\n",
       "dtype: object"
      ]
     },
     "execution_count": 7,
     "metadata": {},
     "output_type": "execute_result"
    }
   ],
   "source": [
    "train.dtypes"
   ]
  },
  {
   "cell_type": "code",
   "execution_count": 8,
   "metadata": {},
   "outputs": [],
   "source": [
    "#chi2_contingency(pd.crosstab(train['Manager_Gender'], train['Business_Sourced']))\n",
    "#use this for bivariate analysis"
   ]
  },
  {
   "cell_type": "code",
   "execution_count": 9,
   "metadata": {},
   "outputs": [],
   "source": [
    "# This is not required, judt did it to make the data more readable\n",
    "\n",
    "label_encoding = {\n",
    "    'Applicant_Gender': {'M': 1, 'F': 0},\n",
    "    'Manager_Gender': {'M': 1, 'F': 0},\n",
    "    'Applicant_Marital_Status': {\n",
    "        'S': 0,\n",
    "        'M': 1,\n",
    "        'W': 2,\n",
    "        'D': 3,\n",
    "        },\n",
    "    'Applicant_Occupation': {\n",
    "        'Others': 0,\n",
    "        'Salaried': 1,\n",
    "        'Business': 2,\n",
    "        'Self Employed': 3,\n",
    "        'Student': 4,\n",
    "        },\n",
    "    'Applicant_Qualification': {\n",
    "        'Others': 0,\n",
    "        'Class XII': 1,\n",
    "        'Class X': 2,\n",
    "        'Graduate': 3,\n",
    "        'Masters of Business Administration': 4,\n",
    "        'Associate / Fellow of Institute of Chartered Accountans of India': 5,\n",
    "        'Associate/Fellow of Institute of Company Secretories of India': 6,\n",
    "        'Associate/Fellow of Acturial Society of India': 7,\n",
    "        'Certified Associateship of Indian Institute of Bankers': 8,\n",
    "        'Associate/Fellow of Insurance Institute of India': 9,\n",
    "        'Professional Qualification in Marketing': 10,\n",
    "        'Associate/Fellow of Institute of Institute of Costs and Works Accountants of India': 11,\n",
    "        },\n",
    "    'Manager_Joining_Designation': {\n",
    "        'Other': 0,\n",
    "        'Level 1': 1,\n",
    "        'Level 2': 2,\n",
    "        'Level 3': 3,\n",
    "        'Level 4': 4,\n",
    "        'Level 5': 5,\n",
    "        'Level 6': 6,\n",
    "        'Level 7': 7,\n",
    "        },\n",
    "    'Manager_Current_Designation': {\n",
    "        'Other': 0,\n",
    "        'Level 1': 1,\n",
    "        'Level 2': 2,\n",
    "        'Level 3': 3,\n",
    "        'Level 4': 4,\n",
    "        'Level 5': 5,\n",
    "        'Level 6': 6,\n",
    "        'Level 7': 7,\n",
    "        },\n",
    "    'Manager_Status': {'Probation': 0, 'Confirmation': 1},\n",
    "    }"
   ]
  },
  {
   "cell_type": "code",
   "execution_count": 10,
   "metadata": {
    "scrolled": true
   },
   "outputs": [
    {
     "data": {
      "text/html": [
       "<div>\n",
       "<style scoped>\n",
       "    .dataframe tbody tr th:only-of-type {\n",
       "        vertical-align: middle;\n",
       "    }\n",
       "\n",
       "    .dataframe tbody tr th {\n",
       "        vertical-align: top;\n",
       "    }\n",
       "\n",
       "    .dataframe thead th {\n",
       "        text-align: right;\n",
       "    }\n",
       "</style>\n",
       "<table border=\"1\" class=\"dataframe\">\n",
       "  <thead>\n",
       "    <tr style=\"text-align: right;\">\n",
       "      <th></th>\n",
       "      <th>Office_PIN</th>\n",
       "      <th>Applicant_City_PIN</th>\n",
       "      <th>Manager_Grade</th>\n",
       "      <th>Manager_Num_Application</th>\n",
       "      <th>Manager_Num_Coded</th>\n",
       "      <th>Manager_Business</th>\n",
       "      <th>Manager_Num_Products</th>\n",
       "      <th>Manager_Business2</th>\n",
       "      <th>Manager_Num_Products2</th>\n",
       "      <th>Business_Sourced</th>\n",
       "    </tr>\n",
       "  </thead>\n",
       "  <tbody>\n",
       "    <tr>\n",
       "      <th>count</th>\n",
       "      <td>9527.000000</td>\n",
       "      <td>9430.000000</td>\n",
       "      <td>8844.000000</td>\n",
       "      <td>8844.000000</td>\n",
       "      <td>8844.000000</td>\n",
       "      <td>8.844000e+03</td>\n",
       "      <td>8844.000000</td>\n",
       "      <td>8.844000e+03</td>\n",
       "      <td>8844.000000</td>\n",
       "      <td>9527.00000</td>\n",
       "    </tr>\n",
       "    <tr>\n",
       "      <th>mean</th>\n",
       "      <td>452894.372205</td>\n",
       "      <td>456784.547296</td>\n",
       "      <td>3.264134</td>\n",
       "      <td>1.939733</td>\n",
       "      <td>0.758933</td>\n",
       "      <td>1.843710e+05</td>\n",
       "      <td>7.152307</td>\n",
       "      <td>1.829263e+05</td>\n",
       "      <td>7.131275</td>\n",
       "      <td>0.34292</td>\n",
       "    </tr>\n",
       "    <tr>\n",
       "      <th>std</th>\n",
       "      <td>235690.618252</td>\n",
       "      <td>239291.081207</td>\n",
       "      <td>1.137449</td>\n",
       "      <td>2.150529</td>\n",
       "      <td>1.188644</td>\n",
       "      <td>2.747163e+05</td>\n",
       "      <td>8.439351</td>\n",
       "      <td>2.718021e+05</td>\n",
       "      <td>8.423597</td>\n",
       "      <td>0.47471</td>\n",
       "    </tr>\n",
       "    <tr>\n",
       "      <th>min</th>\n",
       "      <td>110005.000000</td>\n",
       "      <td>110001.000000</td>\n",
       "      <td>1.000000</td>\n",
       "      <td>0.000000</td>\n",
       "      <td>0.000000</td>\n",
       "      <td>-2.652890e+05</td>\n",
       "      <td>0.000000</td>\n",
       "      <td>-2.652890e+05</td>\n",
       "      <td>0.000000</td>\n",
       "      <td>0.00000</td>\n",
       "    </tr>\n",
       "    <tr>\n",
       "      <th>25%</th>\n",
       "      <td>226001.000000</td>\n",
       "      <td>226020.000000</td>\n",
       "      <td>2.000000</td>\n",
       "      <td>0.000000</td>\n",
       "      <td>0.000000</td>\n",
       "      <td>0.000000e+00</td>\n",
       "      <td>0.000000</td>\n",
       "      <td>0.000000e+00</td>\n",
       "      <td>0.000000</td>\n",
       "      <td>0.00000</td>\n",
       "    </tr>\n",
       "    <tr>\n",
       "      <th>50%</th>\n",
       "      <td>416001.000000</td>\n",
       "      <td>422005.500000</td>\n",
       "      <td>3.000000</td>\n",
       "      <td>1.000000</td>\n",
       "      <td>0.000000</td>\n",
       "      <td>1.021780e+05</td>\n",
       "      <td>5.000000</td>\n",
       "      <td>1.017140e+05</td>\n",
       "      <td>5.000000</td>\n",
       "      <td>0.00000</td>\n",
       "    </tr>\n",
       "    <tr>\n",
       "      <th>75%</th>\n",
       "      <td>695014.000000</td>\n",
       "      <td>695017.000000</td>\n",
       "      <td>4.000000</td>\n",
       "      <td>3.000000</td>\n",
       "      <td>1.000000</td>\n",
       "      <td>2.471165e+05</td>\n",
       "      <td>11.000000</td>\n",
       "      <td>2.464612e+05</td>\n",
       "      <td>11.000000</td>\n",
       "      <td>1.00000</td>\n",
       "    </tr>\n",
       "    <tr>\n",
       "      <th>max</th>\n",
       "      <td>851101.000000</td>\n",
       "      <td>995657.000000</td>\n",
       "      <td>10.000000</td>\n",
       "      <td>22.000000</td>\n",
       "      <td>9.000000</td>\n",
       "      <td>3.578265e+06</td>\n",
       "      <td>101.000000</td>\n",
       "      <td>3.578265e+06</td>\n",
       "      <td>101.000000</td>\n",
       "      <td>1.00000</td>\n",
       "    </tr>\n",
       "  </tbody>\n",
       "</table>\n",
       "</div>"
      ],
      "text/plain": [
       "          Office_PIN  Applicant_City_PIN  Manager_Grade  \\\n",
       "count    9527.000000         9430.000000    8844.000000   \n",
       "mean   452894.372205       456784.547296       3.264134   \n",
       "std    235690.618252       239291.081207       1.137449   \n",
       "min    110005.000000       110001.000000       1.000000   \n",
       "25%    226001.000000       226020.000000       2.000000   \n",
       "50%    416001.000000       422005.500000       3.000000   \n",
       "75%    695014.000000       695017.000000       4.000000   \n",
       "max    851101.000000       995657.000000      10.000000   \n",
       "\n",
       "       Manager_Num_Application  Manager_Num_Coded  Manager_Business  \\\n",
       "count              8844.000000        8844.000000      8.844000e+03   \n",
       "mean                  1.939733           0.758933      1.843710e+05   \n",
       "std                   2.150529           1.188644      2.747163e+05   \n",
       "min                   0.000000           0.000000     -2.652890e+05   \n",
       "25%                   0.000000           0.000000      0.000000e+00   \n",
       "50%                   1.000000           0.000000      1.021780e+05   \n",
       "75%                   3.000000           1.000000      2.471165e+05   \n",
       "max                  22.000000           9.000000      3.578265e+06   \n",
       "\n",
       "       Manager_Num_Products  Manager_Business2  Manager_Num_Products2  \\\n",
       "count           8844.000000       8.844000e+03            8844.000000   \n",
       "mean               7.152307       1.829263e+05               7.131275   \n",
       "std                8.439351       2.718021e+05               8.423597   \n",
       "min                0.000000      -2.652890e+05               0.000000   \n",
       "25%                0.000000       0.000000e+00               0.000000   \n",
       "50%                5.000000       1.017140e+05               5.000000   \n",
       "75%               11.000000       2.464612e+05              11.000000   \n",
       "max              101.000000       3.578265e+06             101.000000   \n",
       "\n",
       "       Business_Sourced  \n",
       "count        9527.00000  \n",
       "mean            0.34292  \n",
       "std             0.47471  \n",
       "min             0.00000  \n",
       "25%             0.00000  \n",
       "50%             0.00000  \n",
       "75%             1.00000  \n",
       "max             1.00000  "
      ]
     },
     "execution_count": 10,
     "metadata": {},
     "output_type": "execute_result"
    }
   ],
   "source": [
    "train.describe()"
   ]
  },
  {
   "cell_type": "code",
   "execution_count": 11,
   "metadata": {},
   "outputs": [
    {
     "data": {
      "text/plain": [
       "Office_PIN                        0\n",
       "Application_Receipt_Date          0\n",
       "Applicant_City_PIN               97\n",
       "Applicant_Gender                 67\n",
       "Applicant_BirthDate              73\n",
       "Applicant_Marital_Status         73\n",
       "Applicant_Occupation           1221\n",
       "Applicant_Qualification          86\n",
       "Manager_DOJ                     683\n",
       "Manager_Joining_Designation     683\n",
       "Manager_Current_Designation     683\n",
       "Manager_Grade                   683\n",
       "Manager_Status                  683\n",
       "Manager_Gender                  683\n",
       "Manager_DoB                     683\n",
       "Manager_Num_Application         683\n",
       "Manager_Num_Coded               683\n",
       "Manager_Business                683\n",
       "Manager_Num_Products            683\n",
       "Manager_Business2               683\n",
       "Manager_Num_Products2           683\n",
       "Business_Sourced                  0\n",
       "dtype: int64"
      ]
     },
     "execution_count": 11,
     "metadata": {},
     "output_type": "execute_result"
    }
   ],
   "source": [
    "train.isnull().sum()"
   ]
  },
  {
   "cell_type": "code",
   "execution_count": 12,
   "metadata": {},
   "outputs": [
    {
     "data": {
      "text/plain": [
       "['Applicant_City_PIN',\n",
       " 'Applicant_Gender',\n",
       " 'Applicant_BirthDate',\n",
       " 'Applicant_Marital_Status',\n",
       " 'Applicant_Occupation',\n",
       " 'Applicant_Qualification',\n",
       " 'Manager_DOJ',\n",
       " 'Manager_Joining_Designation',\n",
       " 'Manager_Current_Designation',\n",
       " 'Manager_Grade',\n",
       " 'Manager_Status',\n",
       " 'Manager_Gender',\n",
       " 'Manager_DoB',\n",
       " 'Manager_Num_Application',\n",
       " 'Manager_Num_Coded',\n",
       " 'Manager_Business',\n",
       " 'Manager_Num_Products',\n",
       " 'Manager_Business2',\n",
       " 'Manager_Num_Products2']"
      ]
     },
     "execution_count": 12,
     "metadata": {},
     "output_type": "execute_result"
    }
   ],
   "source": [
    "train.columns[train.isna().any()].tolist()"
   ]
  },
  {
   "cell_type": "markdown",
   "metadata": {},
   "source": [
    "# Missing Value Treatment"
   ]
  },
  {
   "cell_type": "code",
   "execution_count": 13,
   "metadata": {},
   "outputs": [],
   "source": [
    "# For these continuous variables we replace missing values by mean\n",
    "train['Manager_Business']=train['Manager_Business'].fillna(np.mean(train['Manager_Business']))\n",
    "train['Manager_Business2']=train['Manager_Business2'].fillna(np.mean(train['Manager_Business']))\n",
    "test['Manager_Business']=test['Manager_Business'].fillna(np.mean(test['Manager_Business']))\n",
    "test['Manager_Business2']=test['Manager_Business2'].fillna(np.mean(test['Manager_Business']))"
   ]
  },
  {
   "cell_type": "code",
   "execution_count": 14,
   "metadata": {},
   "outputs": [],
   "source": [
    "# For all other variables we use forward fill to fill missing values\n",
    "train=train.ffill()\n",
    "test=test.ffill()\n"
   ]
  },
  {
   "cell_type": "code",
   "execution_count": 15,
   "metadata": {},
   "outputs": [],
   "source": [
    "train.replace(label_encoding, inplace=True)\n",
    "test.replace(label_encoding, inplace=True)"
   ]
  },
  {
   "cell_type": "markdown",
   "metadata": {},
   "source": [
    "# Outlier Treatment"
   ]
  },
  {
   "cell_type": "markdown",
   "metadata": {},
   "source": [
    "# For Manager_Business"
   ]
  },
  {
   "cell_type": "code",
   "execution_count": 16,
   "metadata": {},
   "outputs": [
    {
     "data": {
      "text/plain": [
       "{'whiskers': [<matplotlib.lines.Line2D at 0x7f2559707c88>,\n",
       "  <matplotlib.lines.Line2D at 0x7f255971d160>],\n",
       " 'caps': [<matplotlib.lines.Line2D at 0x7f255971d588>,\n",
       "  <matplotlib.lines.Line2D at 0x7f255971d9b0>],\n",
       " 'boxes': [<matplotlib.lines.Line2D at 0x7f2559707b38>],\n",
       " 'medians': [<matplotlib.lines.Line2D at 0x7f255971ddd8>],\n",
       " 'fliers': [<matplotlib.lines.Line2D at 0x7f2559727240>],\n",
       " 'means': []}"
      ]
     },
     "execution_count": 16,
     "metadata": {},
     "output_type": "execute_result"
    },
    {
     "data": {
      "image/png": "[encoded data removed]",
      "text/plain": [
       "<Figure size 432x288 with 1 Axes>"
      ]
     },
     "metadata": {},
     "output_type": "display_data"
    }
   ],
   "source": [
    "plt.boxplot(train['Manager_Business'])"
   ]
  },
  {
   "cell_type": "code",
   "execution_count": 17,
   "metadata": {},
   "outputs": [],
   "source": [
    "Q1=train[\"Manager_Business\"].quantile(0.25)\n",
    "Q2=train[\"Manager_Business\"].quantile(0.5)\n",
    "Q3=train[\"Manager_Business\"].quantile(0.75)\n",
    "Q4=train[\"Manager_Business\"].quantile(1)\n",
    "IQR=Q3-Q1"
   ]
  },
  {
   "cell_type": "code",
   "execution_count": 18,
   "metadata": {},
   "outputs": [
    {
     "data": {
      "text/plain": [
       "582282.5"
      ]
     },
     "execution_count": 18,
     "metadata": {},
     "output_type": "execute_result"
    }
   ],
   "source": [
    "B1=Q3+1.5*IQR\n",
    "B1"
   ]
  },
  {
   "cell_type": "code",
   "execution_count": 19,
   "metadata": {},
   "outputs": [],
   "source": [
    "# Replacing outliers by mean. Also check by replacing with median.\n",
    "train.loc[train['Manager_Business']>600000, 'Manager_Business']=np.mean(train['Manager_Business'])"
   ]
  },
  {
   "cell_type": "code",
   "execution_count": 20,
   "metadata": {},
   "outputs": [
    {
     "data": {
      "text/plain": [
       "{'whiskers': [<matplotlib.lines.Line2D at 0x7f255d2d1f28>,\n",
       "  <matplotlib.lines.Line2D at 0x7f255d2d53c8>],\n",
       " 'caps': [<matplotlib.lines.Line2D at 0x7f255d2d5828>,\n",
       "  <matplotlib.lines.Line2D at 0x7f25596ec710>],\n",
       " 'boxes': [<matplotlib.lines.Line2D at 0x7f255d2d15c0>],\n",
       " 'medians': [<matplotlib.lines.Line2D at 0x7f2559688898>],\n",
       " 'fliers': [<matplotlib.lines.Line2D at 0x7f2559688cf8>],\n",
       " 'means': []}"
      ]
     },
     "execution_count": 20,
     "metadata": {},
     "output_type": "execute_result"
    },
    {
     "data": {
      "image/png": "[encoded data removed]",
      "text/plain": [
       "<Figure size 432x288 with 1 Axes>"
      ]
     },
     "metadata": {},
     "output_type": "display_data"
    }
   ],
   "source": [
    "plt.boxplot(train['Manager_Business'])"
   ]
  },
  {
   "cell_type": "markdown",
   "metadata": {},
   "source": [
    "# For Manager_Business2"
   ]
  },
  {
   "cell_type": "code",
   "execution_count": 21,
   "metadata": {},
   "outputs": [
    {
     "data": {
      "text/plain": [
       "{'whiskers': [<matplotlib.lines.Line2D at 0x7f255966fb00>,\n",
       "  <matplotlib.lines.Line2D at 0x7f255966ff98>],\n",
       " 'caps': [<matplotlib.lines.Line2D at 0x7f2559677400>,\n",
       "  <matplotlib.lines.Line2D at 0x7f2559677828>],\n",
       " 'boxes': [<matplotlib.lines.Line2D at 0x7f255966f9b0>],\n",
       " 'medians': [<matplotlib.lines.Line2D at 0x7f2559677c50>],\n",
       " 'fliers': [<matplotlib.lines.Line2D at 0x7f25596800b8>],\n",
       " 'means': []}"
      ]
     },
     "execution_count": 21,
     "metadata": {},
     "output_type": "execute_result"
    },
    {
     "data": {
      "image/png": "[encoded data removed]",
      "text/plain": [
       "<Figure size 432x288 with 1 Axes>"
      ]
     },
     "metadata": {},
     "output_type": "display_data"
    }
   ],
   "source": [
    "plt.boxplot(train['Manager_Business2'])"
   ]
  },
  {
   "cell_type": "code",
   "execution_count": 22,
   "metadata": {},
   "outputs": [],
   "source": [
    "Q1=train[\"Manager_Business2\"].quantile(0.25)\n",
    "Q2=train[\"Manager_Business2\"].quantile(0.5)\n",
    "Q3=train[\"Manager_Business2\"].quantile(0.75)\n",
    "Q4=train[\"Manager_Business2\"].quantile(1)\n",
    "IQR=Q3-Q1"
   ]
  },
  {
   "cell_type": "code",
   "execution_count": 23,
   "metadata": {},
   "outputs": [
    {
     "data": {
      "text/plain": [
       "578800.0"
      ]
     },
     "execution_count": 23,
     "metadata": {},
     "output_type": "execute_result"
    }
   ],
   "source": [
    "B2=Q3+1.5*IQR\n",
    "B2"
   ]
  },
  {
   "cell_type": "code",
   "execution_count": 24,
   "metadata": {},
   "outputs": [],
   "source": [
    "# Replacing outliers by mean. Also check by replacing with median.\n",
    "train.loc[train['Manager_Business2']>600000, 'Manager_Business2']=np.mean(train['Manager_Business2'])"
   ]
  },
  {
   "cell_type": "code",
   "execution_count": 25,
   "metadata": {},
   "outputs": [
    {
     "data": {
      "text/plain": [
       "{'whiskers': [<matplotlib.lines.Line2D at 0x7f25595d9828>,\n",
       "  <matplotlib.lines.Line2D at 0x7f25595d9cc0>],\n",
       " 'caps': [<matplotlib.lines.Line2D at 0x7f25595e3128>,\n",
       "  <matplotlib.lines.Line2D at 0x7f25595e3550>],\n",
       " 'boxes': [<matplotlib.lines.Line2D at 0x7f25595d96d8>],\n",
       " 'medians': [<matplotlib.lines.Line2D at 0x7f25595e3978>],\n",
       " 'fliers': [<matplotlib.lines.Line2D at 0x7f25595e3da0>],\n",
       " 'means': []}"
      ]
     },
     "execution_count": 25,
     "metadata": {},
     "output_type": "execute_result"
    },
    {
     "data": {
      "image/png": "[encoded data removed]",
      "text/plain": [
       "<Figure size 432x288 with 1 Axes>"
      ]
     },
     "metadata": {},
     "output_type": "display_data"
    }
   ],
   "source": [
    "plt.boxplot(train['Manager_Business2'])"
   ]
  },
  {
   "cell_type": "markdown",
   "metadata": {},
   "source": [
    "# For Manager_Num_Products"
   ]
  },
  {
   "cell_type": "code",
   "execution_count": 26,
   "metadata": {},
   "outputs": [
    {
     "data": {
      "text/plain": [
       "{'whiskers': [<matplotlib.lines.Line2D at 0x7f25595b3278>,\n",
       "  <matplotlib.lines.Line2D at 0x7f25595b3710>],\n",
       " 'caps': [<matplotlib.lines.Line2D at 0x7f25595b3b38>,\n",
       "  <matplotlib.lines.Line2D at 0x7f25595b3f60>],\n",
       " 'boxes': [<matplotlib.lines.Line2D at 0x7f25595b3128>],\n",
       " 'medians': [<matplotlib.lines.Line2D at 0x7f25595bc3c8>],\n",
       " 'fliers': [<matplotlib.lines.Line2D at 0x7f25595bc7f0>],\n",
       " 'means': []}"
      ]
     },
     "execution_count": 26,
     "metadata": {},
     "output_type": "execute_result"
    },
    {
     "data": {
      "image/png": "[encoded data removed]",
      "text/plain": [
       "<Figure size 432x288 with 1 Axes>"
      ]
     },
     "metadata": {},
     "output_type": "display_data"
    }
   ],
   "source": [
    "plt.boxplot(train['Manager_Num_Products'])"
   ]
  },
  {
   "cell_type": "code",
   "execution_count": 27,
   "metadata": {},
   "outputs": [
    {
     "data": {
      "text/plain": [
       "{'whiskers': [<matplotlib.lines.Line2D at 0x7f2559507a58>,\n",
       "  <matplotlib.lines.Line2D at 0x7f2559507ef0>],\n",
       " 'caps': [<matplotlib.lines.Line2D at 0x7f2559513358>,\n",
       "  <matplotlib.lines.Line2D at 0x7f2559513780>],\n",
       " 'boxes': [<matplotlib.lines.Line2D at 0x7f2559507908>],\n",
       " 'medians': [<matplotlib.lines.Line2D at 0x7f2559513ba8>],\n",
       " 'fliers': [<matplotlib.lines.Line2D at 0x7f2559513fd0>],\n",
       " 'means': []}"
      ]
     },
     "execution_count": 27,
     "metadata": {},
     "output_type": "execute_result"
    },
    {
     "data": {
      "image/png": "[encoded data removed]",
      "text/plain": [
       "<Figure size 432x288 with 1 Axes>"
      ]
     },
     "metadata": {},
     "output_type": "display_data"
    }
   ],
   "source": [
    "train.loc[train['Manager_Num_Products']>60, 'Manager_Num_Products']=np.mean(train['Manager_Num_Products'])\n",
    "plt.boxplot(train['Manager_Num_Products'])"
   ]
  },
  {
   "cell_type": "markdown",
   "metadata": {},
   "source": [
    "# For Manager_Num_Products2"
   ]
  },
  {
   "cell_type": "code",
   "execution_count": 28,
   "metadata": {},
   "outputs": [
    {
     "data": {
      "text/plain": [
       "{'whiskers': [<matplotlib.lines.Line2D at 0x7f25594e1f98>,\n",
       "  <matplotlib.lines.Line2D at 0x7f25594ec470>],\n",
       " 'caps': [<matplotlib.lines.Line2D at 0x7f25594ec898>,\n",
       "  <matplotlib.lines.Line2D at 0x7f25594eccc0>],\n",
       " 'boxes': [<matplotlib.lines.Line2D at 0x7f25594e1e48>],\n",
       " 'medians': [<matplotlib.lines.Line2D at 0x7f25594f5128>],\n",
       " 'fliers': [<matplotlib.lines.Line2D at 0x7f25594f5550>],\n",
       " 'means': []}"
      ]
     },
     "execution_count": 28,
     "metadata": {},
     "output_type": "execute_result"
    },
    {
     "data": {
      "image/png": "[encoded data removed]",
      "text/plain": [
       "<Figure size 432x288 with 1 Axes>"
      ]
     },
     "metadata": {},
     "output_type": "display_data"
    }
   ],
   "source": [
    "plt.boxplot(train['Manager_Num_Products2'])"
   ]
  },
  {
   "cell_type": "code",
   "execution_count": 29,
   "metadata": {},
   "outputs": [
    {
     "data": {
      "text/plain": [
       "{'whiskers': [<matplotlib.lines.Line2D at 0x7f25594c0828>,\n",
       "  <matplotlib.lines.Line2D at 0x7f25594c0cc0>],\n",
       " 'caps': [<matplotlib.lines.Line2D at 0x7f255944c128>,\n",
       "  <matplotlib.lines.Line2D at 0x7f255944c550>],\n",
       " 'boxes': [<matplotlib.lines.Line2D at 0x7f25594c06d8>],\n",
       " 'medians': [<matplotlib.lines.Line2D at 0x7f255944c978>],\n",
       " 'fliers': [<matplotlib.lines.Line2D at 0x7f255944cda0>],\n",
       " 'means': []}"
      ]
     },
     "execution_count": 29,
     "metadata": {},
     "output_type": "execute_result"
    },
    {
     "data": {
      "image/png": "[encoded data removed]",
      "text/plain": [
       "<Figure size 432x288 with 1 Axes>"
      ]
     },
     "metadata": {},
     "output_type": "display_data"
    }
   ],
   "source": [
    "#keep changing values\n",
    "train.loc[train['Manager_Num_Products2']>60, 'Manager_Num_Products2']=np.mean(train['Manager_Num_Products2'])\n",
    "plt.boxplot(train['Manager_Num_Products2'])"
   ]
  },
  {
   "cell_type": "markdown",
   "metadata": {},
   "source": [
    "# CHECK FOR Manager_Num_Application Manager_Num_Coded ALSO"
   ]
  },
  {
   "cell_type": "markdown",
   "metadata": {},
   "source": [
    "# Training Model"
   ]
  },
  {
   "cell_type": "code",
   "execution_count": 30,
   "metadata": {},
   "outputs": [],
   "source": [
    "#importing decision tree classifier \n",
    "\n",
    "from sklearn.tree import DecisionTreeClassifier"
   ]
  },
  {
   "cell_type": "code",
   "execution_count": 31,
   "metadata": {},
   "outputs": [],
   "source": [
    "clf = DecisionTreeClassifier()"
   ]
  },
  {
   "cell_type": "code",
   "execution_count": 32,
   "metadata": {},
   "outputs": [],
   "source": [
    "x_train = train.drop(['Business_Sourced','Application_Receipt_Date','Applicant_BirthDate','Manager_DOJ','Manager_DoB'],axis=1)\n",
    "y_train = train[\"Business_Sourced\"]"
   ]
  },
  {
   "cell_type": "code",
   "execution_count": 33,
   "metadata": {},
   "outputs": [],
   "source": [
    "test = test.drop(['Application_Receipt_Date','Applicant_BirthDate','Manager_DOJ','Manager_DoB'], axis=1)"
   ]
  },
  {
   "cell_type": "code",
   "execution_count": 34,
   "metadata": {},
   "outputs": [
    {
     "data": {
      "text/plain": [
       "DecisionTreeClassifier(class_weight=None, criterion='gini', max_depth=None,\n",
       "            max_features=None, max_leaf_nodes=None,\n",
       "            min_impurity_decrease=0.0, min_impurity_split=None,\n",
       "            min_samples_leaf=1, min_samples_split=2,\n",
       "            min_weight_fraction_leaf=0.0, presort=False, random_state=None,\n",
       "            splitter='best')"
      ]
     },
     "execution_count": 34,
     "metadata": {},
     "output_type": "execute_result"
    }
   ],
   "source": [
    "clf.fit(x_train, y_train)"
   ]
  },
  {
   "cell_type": "code",
   "execution_count": 35,
   "metadata": {},
   "outputs": [
    {
     "data": {
      "text/plain": [
       "0.9913928833840664"
      ]
     },
     "execution_count": 35,
     "metadata": {},
     "output_type": "execute_result"
    }
   ],
   "source": [
    "clf.score(x_train,y_train)"
   ]
  },
  {
   "cell_type": "code",
   "execution_count": 36,
   "metadata": {},
   "outputs": [
    {
     "data": {
      "text/plain": [
       "0    3334\n",
       "1    1711\n",
       "Name: Business_Sourced, dtype: int64"
      ]
     },
     "execution_count": 36,
     "metadata": {},
     "output_type": "execute_result"
    }
   ],
   "source": [
    "prediction=clf.predict(test)\n",
    "data = {\"ID\":test.index, \"Business_Sourced\":prediction}\n",
    "outdata = pd.DataFrame(data)\n",
    "\n",
    "outdata[\"Business_Sourced\"].value_counts()"
   ]
  },
  {
   "cell_type": "code",
   "execution_count": 37,
   "metadata": {},
   "outputs": [],
   "source": [
    "outdata.to_csv(\"sample_submission.csv\", index=False)"
   ]
  }
 ],
 "metadata": {
  "kernelspec": {
   "display_name": "Python 3",
   "language": "python",
   "name": "python3"
  },
  "language_info": {
   "codemirror_mode": {
    "name": "ipython",
    "version": 3
   },
   "file_extension": ".py",
   "mimetype": "text/x-python",
   "name": "python",
   "nbconvert_exporter": "python",
   "pygments_lexer": "ipython3",
   "version": "3.6.5"
  }
 },
 "nbformat": 4,
 "nbformat_minor": 2
}
